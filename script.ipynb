{
 "cells": [
  {
   "cell_type": "code",
   "execution_count": 3,
   "metadata": {},
   "outputs": [],
   "source": [
    "import requests\n",
    "from bs4 import BeautifulSoup"
   ]
  },
  {
   "cell_type": "code",
   "execution_count": 5,
   "metadata": {},
   "outputs": [
    {
     "name": "stdout",
     "output_type": "stream",
     "text": [
      "\n"
     ]
    }
   ],
   "source": [
    "def get_page(url):\n",
    "    response = requests.get(url)\n",
    "#     print(response.status_code)\n",
    "#     print(response.ok)\n",
    "    if not response.ok:\n",
    "        print('Server that responded is not valid and the code : ', response.status_code)\n",
    "    else:\n",
    "        soup = BeautifulSoup(response.text, 'lxml')\n",
    "    return soup\n",
    "        \n",
    "def get_data(soup_object):\n",
    "    try:\n",
    "        title = soup_object.find('h1', id = 'itemTitle').text.strip().split('Details about ')[1]\n",
    "    except:\n",
    "        title = ''\n",
    "    \n",
    "    try:\n",
    "        p = soup_object.find( 'div', id='vi-mskumap-none' ).find( 'span', id='prcIsum' ).text.strip()\n",
    "        currency, price = p.split(' ')\n",
    "        price = price.split('$')[1]\n",
    "    except:\n",
    "        price = ''\n",
    "        currency = ''\n",
    "    \n",
    "    try:\n",
    "        total_sold = soup_object.find('span', class_ = 'vi-qtyS-hot-red').find('a').text.split(' ')[0]\n",
    "    except:\n",
    "        total_sold = ''\n",
    "        \n",
    "    try:\n",
    "        links = soup_object.find_all('a')\n",
    "    except:\n",
    "        links = ''\n",
    "        \n",
    "    data = {\n",
    "        'title' : title,\n",
    "        'price' : price,\n",
    "        'currency' : currency,\n",
    "        'total_sold' : total_sold\n",
    "    }\n",
    "    return data\n",
    "    \n",
    "#     title = soup_object.select('h1#itemTitle')[0].text.strip().split('Details about')\n",
    "#     title = soup_object.select('h1#itemTitle')[0].text\n",
    "    \n",
    "    \n",
    "def main():\n",
    "#     url = 'https://www.ebay.com/itm/Men-Women-Fashion-Watch-Leather-Strap-Line-Analog-Quartz-Ladies-Wrist-Watches/311988773122?_trkparms=aid%3D1110002%26algo%3DSPLICE.SOI%26ao%3D1%26asc%3D20200116171858%26meid%3De774b8599da54223ab359ea489998469%26pid%3D100008%26rk%3D2%26rkt%3D12%26sd%3D382271662077%26itm%3D311988773122%26pmt%3D1%26noa%3D0%26pg%3D2047675&_trksid=p2047675.c100008.m2219'\n",
    "#     url = 'https://www.ebay.com/itm/Mens-Leather-Military-Casual-Analog-Quartz-Wrist-Watch-Business-Watches-Gifts/312115693156?hash=item48ab8b8664:m:mGnNNrfrWAfVuG9ZMsyv5VQ'\n",
    "#     url = 'https://www.ebay.com/itm/Military-Leather-Waterproof-Date-Quartz-Analog-Army-Mens-Quartz-Wrist-Watches/382271662077?_trkparms=aid%3D1110002%26algo%3DSPLICE.SOI%26ao%3D1%26asc%3D20200116171858%26meid%3Da5ebf61922404c87ab9dc6f41293b0de%26pid%3D100008%26rk%3D1%26rkt%3D12%26sd%3D312115693156%26itm%3D382271662077%26pmt%3D1%26noa%3D0%26pg%3D2047675&_trksid=p2047675.c100008.m2219'\n",
    "    url = 'https://www.ebay.com/sch/i.html?&_trksid=m570.l1313&_nkw=men+watch&_sacat=0&_pgn=1'\n",
    "    data = get_data(get_page(url))\n",
    "#     print(data['title'])\n",
    "    \n",
    "main()\n",
    "\n",
    "\n"
   ]
  },
  {
   "cell_type": "code",
   "execution_count": null,
   "metadata": {},
   "outputs": [],
   "source": []
  },
  {
   "cell_type": "code",
   "execution_count": null,
   "metadata": {},
   "outputs": [],
   "source": []
  },
  {
   "cell_type": "code",
   "execution_count": null,
   "metadata": {},
   "outputs": [],
   "source": []
  },
  {
   "cell_type": "code",
   "execution_count": null,
   "metadata": {},
   "outputs": [],
   "source": []
  },
  {
   "cell_type": "code",
   "execution_count": null,
   "metadata": {},
   "outputs": [],
   "source": []
  },
  {
   "cell_type": "code",
   "execution_count": null,
   "metadata": {},
   "outputs": [],
   "source": []
  },
  {
   "cell_type": "code",
   "execution_count": null,
   "metadata": {},
   "outputs": [],
   "source": []
  },
  {
   "cell_type": "code",
   "execution_count": null,
   "metadata": {},
   "outputs": [],
   "source": []
  },
  {
   "cell_type": "code",
   "execution_count": null,
   "metadata": {},
   "outputs": [],
   "source": []
  },
  {
   "cell_type": "code",
   "execution_count": null,
   "metadata": {},
   "outputs": [],
   "source": []
  },
  {
   "cell_type": "code",
   "execution_count": null,
   "metadata": {},
   "outputs": [],
   "source": []
  },
  {
   "cell_type": "code",
   "execution_count": null,
   "metadata": {},
   "outputs": [],
   "source": []
  },
  {
   "cell_type": "code",
   "execution_count": null,
   "metadata": {},
   "outputs": [],
   "source": []
  },
  {
   "cell_type": "code",
   "execution_count": null,
   "metadata": {},
   "outputs": [],
   "source": []
  }
 ],
 "metadata": {
  "kernelspec": {
   "display_name": "Python 3",
   "language": "python",
   "name": "python3"
  },
  "language_info": {
   "codemirror_mode": {
    "name": "ipython",
    "version": 3
   },
   "file_extension": ".py",
   "mimetype": "text/x-python",
   "name": "python",
   "nbconvert_exporter": "python",
   "pygments_lexer": "ipython3",
   "version": "3.7.0"
  }
 },
 "nbformat": 4,
 "nbformat_minor": 2
}
